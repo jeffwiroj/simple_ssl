{
 "cells": [
  {
   "cell_type": "code",
   "execution_count": 15,
   "id": "rental-maryland",
   "metadata": {},
   "outputs": [],
   "source": [
    "import torch\n",
    "import torch.nn as nn\n",
    "import torchvision\n",
    "import torch.nn.functional as F\n",
    "import torchvision.models as models\n",
    "from dataset import get_dataset\n",
    "from torch.utils.data import Dataset, DataLoader\n",
    "import torch.optim as optim\n",
    "import matplotlib.pyplot as plt\n",
    "device = torch.device(\"cuda:0\" if torch.cuda.is_available() else \"cpu\")\n"
   ]
  },
  {
   "cell_type": "code",
   "execution_count": 8,
   "id": "instant-melbourne",
   "metadata": {},
   "outputs": [
    {
     "name": "stdout",
     "output_type": "stream",
     "text": [
      "\n"
     ]
    }
   ],
   "source": [
    "def get_model():\n",
    "    \n",
    "    model = models.resnet34(False)\n",
    "    model.fc = nn.Linear(512,9)\n",
    "    return model\n",
    "state_dict = torch.load(\"results/checkpoints/sched_type_None.pth\",map_location = device)\n",
    "\n",
    "model = get_model()\n",
    "model.load_state_dict(state_dict)\n",
    "model.to(device)\n",
    "print()"
   ]
  },
  {
   "cell_type": "code",
   "execution_count": 9,
   "id": "fixed-homework",
   "metadata": {},
   "outputs": [],
   "source": [
    "dataset = get_dataset()\n",
    "test_loader =  DataLoader(dataset['test_set'], batch_size=512,shuffle = False, pin_memory = True,num_workers = 4)"
   ]
  },
  {
   "cell_type": "code",
   "execution_count": 12,
   "id": "legislative-diagnosis",
   "metadata": {},
   "outputs": [],
   "source": [
    "def val(model,criterion,val_loader):\n",
    "    \n",
    "    total_acc,total_loss = 0,0\n",
    "    model.eval()\n",
    "    total,correct = 0,0\n",
    "    incorrect_class = [0]*9\n",
    "    with torch.no_grad():\n",
    "        for x,y in val_loader:\n",
    "            B = y.size(0)\n",
    "\n",
    "            x = x.to(device)\n",
    "            y = y.to(device)\n",
    "            y = y.view(B).long()\n",
    "\n",
    "            logits = model(x)\n",
    "            preds = torch.argmax(logits,1)\n",
    "\n",
    "            loss = criterion(logits,y)\n",
    "            total_loss += (loss.item()/len(val_loader))\n",
    "            \n",
    "            total += B\n",
    "            correct += (preds == y).sum().item()\n",
    "            \n",
    "            for i in range(B):\n",
    "                if(preds[i] != y[i]):\n",
    "                    incorrect_class[y[i]] +=1\n",
    "            \n",
    "    total_acc = correct/total\n",
    "    return total_acc,incorrect_class"
   ]
  },
  {
   "cell_type": "code",
   "execution_count": 16,
   "id": "cognitive-teaching",
   "metadata": {},
   "outputs": [
    {
     "name": "stdout",
     "output_type": "stream",
     "text": [
      "Test Acc: 0.7362116991643454\n",
      "Incorrect predictions per class: [452, 0, 76, 107, 302, 248, 327, 254, 128]\n"
     ]
    }
   ],
   "source": [
    "criterion = nn.CrossEntropyLoss()\n",
    "acc,incorrect_class = val(model,criterion,test_loader)\n",
    "print(f\"Test Acc: {acc}\")\n",
    "print(f\"Incorrect predictions per class: {incorrect_class}\")"
   ]
  }
 ],
 "metadata": {
  "kernelspec": {
   "display_name": "Python 3",
   "language": "python",
   "name": "python3"
  },
  "language_info": {
   "codemirror_mode": {
    "name": "ipython",
    "version": 3
   },
   "file_extension": ".py",
   "mimetype": "text/x-python",
   "name": "python",
   "nbconvert_exporter": "python",
   "pygments_lexer": "ipython3",
   "version": "3.8.5"
  }
 },
 "nbformat": 4,
 "nbformat_minor": 5
}
